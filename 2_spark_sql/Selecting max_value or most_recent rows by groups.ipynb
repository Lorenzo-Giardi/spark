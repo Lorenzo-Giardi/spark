{
 "cells": [
  {
   "cell_type": "code",
   "execution_count": 1,
   "metadata": {},
   "outputs": [],
   "source": [
    "from pyspark.sql import SparkSession\n",
    "import pyspark.sql.functions as F\n",
    "\n",
    "spark = SparkSession.builder \\\n",
    "                    .appName('Spark SQL query df') \\\n",
    "                    .getOrCreate()"
   ]
  },
  {
   "cell_type": "code",
   "execution_count": 3,
   "metadata": {},
   "outputs": [],
   "source": [
    "data_path = '/home/lorenzo/spark-repo/0_data/gkanadeb.csv'\n",
    "df = spark.read.option('header', 'True') \\\n",
    "                .option('inferSchema', 'True') \\\n",
    "                .csv(data_path)"
   ]
  },
  {
   "cell_type": "code",
   "execution_count": 4,
   "metadata": {},
   "outputs": [],
   "source": [
    " df = df.withColumn('snapshot',F.to_date(F.col('snapshot'),'dd/MM/yyyy')) \\\n",
    "        .withColumn('emissione',F.to_date(F.col('emissione'),'dd/MM/yyyy')) \\"
   ]
  },
  {
   "cell_type": "code",
   "execution_count": 5,
   "metadata": {},
   "outputs": [
    {
     "name": "stdout",
     "output_type": "stream",
     "text": [
      "root\n",
      " |-- ndg: string (nullable = true)\n",
      " |-- snapshot: date (nullable = true)\n",
      " |-- emissione: date (nullable = true)\n",
      " |-- numero: string (nullable = true)\n",
      " |-- flag: string (nullable = true)\n",
      "\n"
     ]
    }
   ],
   "source": [
    "df.printSchema()"
   ]
  },
  {
   "cell_type": "code",
   "execution_count": 6,
   "metadata": {},
   "outputs": [
    {
     "name": "stdout",
     "output_type": "stream",
     "text": [
      "+---+----------+----------+------+----+\n",
      "|ndg|  snapshot| emissione|numero|flag|\n",
      "+---+----------+----------+------+----+\n",
      "|AAA|2020-03-10|2020-01-05|  AAA2|   A|\n",
      "|AAA|2020-03-10|2018-05-12|  AAA1|   B|\n",
      "|AAA|2020-03-14|2020-01-05|  AAA2|   A|\n",
      "|AAA|2020-03-14|2018-05-12|  AAA1|   B|\n",
      "|AAA|2020-02-20|2020-01-05|  AAA2|   A|\n",
      "|AAA|2020-02-20|2018-05-12|  AAA1|   B|\n",
      "|AAA|2019-12-27|2018-05-12|  AAA1|   A|\n",
      "|BBB|2020-03-10|2019-09-17|  BBB1|   B|\n",
      "|BBB|2020-03-10|2019-12-20|  BBB2|   C|\n",
      "|BBB|2020-03-14|2019-09-17|  BBB1|   B|\n",
      "|BBB|2020-03-14|2019-12-20|  BBB2|   C|\n",
      "|BBB|2020-02-20|2019-09-17|  BBB1|   B|\n",
      "|BBB|2020-02-20|2019-12-20|  BBB2|   C|\n",
      "|BBB|2019-12-27|2019-09-17|  BBB1|   B|\n",
      "|BBB|2019-12-27|2019-12-20|  BBB2|   C|\n",
      "|CCC|2020-03-10|2019-01-05|  CCC1|   A|\n",
      "|CCC|2020-03-14|2019-01-05|  CCC1|   A|\n",
      "|CCC|2020-03-03|2019-01-05|  CCC1|   A|\n",
      "|CCC|2020-02-25|2019-01-05|  CCC1|   A|\n",
      "|CCC|2020-02-18|2019-01-05|  CCC1|   A|\n",
      "+---+----------+----------+------+----+\n",
      "only showing top 20 rows\n",
      "\n"
     ]
    }
   ],
   "source": [
    "df.show()"
   ]
  },
  {
   "cell_type": "code",
   "execution_count": 7,
   "metadata": {},
   "outputs": [],
   "source": [
    "df.createOrReplaceTempView('gkanadeb')"
   ]
  },
  {
   "cell_type": "code",
   "execution_count": 8,
   "metadata": {},
   "outputs": [
    {
     "name": "stdout",
     "output_type": "stream",
     "text": [
      "+---+----------+--------------+--------------------+------------------+\n",
      "|ndg|    dt_rif|max(emissione)|first(numero, false)|first(flag, false)|\n",
      "+---+----------+--------------+--------------------+------------------+\n",
      "|AAA|2020-03-31|    2020-01-05|                AAA2|                 A|\n",
      "|AAA|2020-02-29|    2020-01-05|                AAA2|                 A|\n",
      "|AAA|2019-12-31|    2018-05-12|                AAA1|                 A|\n",
      "|BBB|2020-03-31|    2019-12-20|                BBB1|                 B|\n",
      "|BBB|2020-02-29|    2019-12-20|                BBB1|                 B|\n",
      "|BBB|2019-12-31|    2019-12-20|                BBB1|                 B|\n",
      "|CCC|2020-03-31|    2019-01-05|                CCC1|                 A|\n",
      "|CCC|2020-02-29|    2019-01-05|                CCC1|                 A|\n",
      "+---+----------+--------------+--------------------+------------------+\n",
      "\n"
     ]
    }
   ],
   "source": [
    "spark.sql('SELECT ndg, \\\n",
    "                  last_day(snapshot) as dt_rif, \\\n",
    "                  max(emissione), \\\n",
    "                  first(numero), \\\n",
    "                  first(flag) \\\n",
    "           FROM gkanadeb \\\n",
    "           GROUP BY 1,2 \\\n",
    "           ORDER BY ndg, dt_rif DESC').show()"
   ]
  },
  {
   "cell_type": "code",
   "execution_count": 9,
   "metadata": {},
   "outputs": [
    {
     "name": "stdout",
     "output_type": "stream",
     "text": [
      "+---+----------+----------+------+----+---+\n",
      "|ndg|    dt_rif| emissione|numero|flag| rk|\n",
      "+---+----------+----------+------+----+---+\n",
      "|AAA|2020-03-31|2020-01-05|  AAA2|   A|  1|\n",
      "|AAA|2020-02-29|2020-01-05|  AAA2|   A|  1|\n",
      "|AAA|2019-12-31|2018-05-12|  AAA1|   A|  1|\n",
      "|BBB|2020-03-31|2019-12-20|  BBB2|   C|  1|\n",
      "|BBB|2020-02-29|2019-12-20|  BBB2|   C|  1|\n",
      "|BBB|2019-12-31|2019-12-20|  BBB2|   C|  1|\n",
      "|CCC|2020-03-31|2019-01-05|  CCC1|   A|  1|\n",
      "|CCC|2020-02-29|2019-01-05|  CCC1|   A|  1|\n",
      "+---+----------+----------+------+----+---+\n",
      "\n"
     ]
    }
   ],
   "source": [
    "spark.sql('WITH summary AS (\\\n",
    "                            SELECT g.ndg, \\\n",
    "                            last_day(g.snapshot) as dt_rif, \\\n",
    "                            g.emissione, \\\n",
    "                            g.numero, \\\n",
    "                            g.flag, \\\n",
    "                            ROW_NUMBER() OVER(PARTITION BY g.ndg, last_day(g.snapshot) \\\n",
    "                                              ORDER BY g.emissione DESC \\\n",
    "                                              ) as rk \\\n",
    "                            FROM gkanadeb as g) \\\n",
    "           SELECT s.* \\\n",
    "           FROM summary as s \\\n",
    "           WHERE s.rk = 1 \\\n",
    "           ORDER BY ndg, dt_rif DESC').show()"
   ]
  },
  {
   "cell_type": "code",
   "execution_count": null,
   "metadata": {},
   "outputs": [],
   "source": []
  },
  {
   "cell_type": "code",
   "execution_count": null,
   "metadata": {},
   "outputs": [],
   "source": []
  }
 ],
 "metadata": {
  "kernelspec": {
   "display_name": "newpy36",
   "language": "python",
   "name": "newpy36"
  },
  "language_info": {
   "codemirror_mode": {
    "name": "ipython",
    "version": 3
   },
   "file_extension": ".py",
   "mimetype": "text/x-python",
   "name": "python",
   "nbconvert_exporter": "python",
   "pygments_lexer": "ipython3",
   "version": "3.7.6"
  }
 },
 "nbformat": 4,
 "nbformat_minor": 4
}
