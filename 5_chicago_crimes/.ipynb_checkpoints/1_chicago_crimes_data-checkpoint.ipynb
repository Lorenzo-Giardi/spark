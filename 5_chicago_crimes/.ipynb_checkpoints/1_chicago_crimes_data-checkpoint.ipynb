{
 "cells": [
  {
   "cell_type": "markdown",
   "metadata": {},
   "source": [
    "# Chicago Crimes Data\n",
    "This dataset reflects reported incidents of crime (with the exception of murders where data exists for each victim) that occurred in the City of Chicago from 2001 to present, minus the most recent seven days.\n",
    "\n",
    "Link to download: https://data.cityofchicago.org/Public-Safety/Crimes-2001-to-present/ijzp-q8t2"
   ]
  },
  {
   "cell_type": "code",
   "execution_count": 1,
   "metadata": {},
   "outputs": [],
   "source": [
    "from pyspark.sql import SparkSession\n",
    "import pyspark.sql.functions as F\n",
    "spark = SparkSession.builder.getOrCreate()"
   ]
  },
  {
   "cell_type": "code",
   "execution_count": 2,
   "metadata": {},
   "outputs": [],
   "source": [
    "data_path = '/home/lorenzo/Desktop/chicago_crimes.csv'\n",
    "\n",
    "df = spark.read.format('csv').option('header', 'true')\\\n",
    "                             .option('inferSchema', 'true')\\\n",
    "                             .load(data_path)"
   ]
  },
  {
   "cell_type": "code",
   "execution_count": 3,
   "metadata": {},
   "outputs": [],
   "source": [
    "df = df.withColumnRenamed('Case Number',  'Case_Number') \\\n",
    "        .withColumnRenamed('Primary Type',  'Primary_Type') \\\n",
    "        .withColumnRenamed('Location Description',  'Location_Description') \\\n",
    "        .withColumnRenamed('Community Area',  'Community_Area') \\\n",
    "        .withColumnRenamed('FBI Code',  'FBI_Code') \\\n",
    "        .withColumnRenamed('X Coordinate',  'X_Coordinate') \\\n",
    "        .withColumnRenamed('Y Coordinate',  'Y_Coordinate') \\\n",
    "        .withColumnRenamed('Updated On',  'Updated_On') \\\n",
    "        \\\n",
    "        .withColumn('Date',F.to_timestamp(F.col('Date'),'MM/dd/yyyy hh:mm:ss a')) \\\n",
    "        .filter(F.col('Date') <= F.lit('2018-11-11'))"
   ]
  },
  {
   "cell_type": "code",
   "execution_count": 4,
   "metadata": {},
   "outputs": [
    {
     "name": "stdout",
     "output_type": "stream",
     "text": [
      "root\n",
      " |-- ID: integer (nullable = true)\n",
      " |-- Case_Number: string (nullable = true)\n",
      " |-- Date: timestamp (nullable = true)\n",
      " |-- Block: string (nullable = true)\n",
      " |-- IUCR: string (nullable = true)\n",
      " |-- Primary_Type: string (nullable = true)\n",
      " |-- Description: string (nullable = true)\n",
      " |-- Location_Description: string (nullable = true)\n",
      " |-- Arrest: boolean (nullable = true)\n",
      " |-- Domestic: boolean (nullable = true)\n",
      " |-- Beat: integer (nullable = true)\n",
      " |-- District: integer (nullable = true)\n",
      " |-- Ward: integer (nullable = true)\n",
      " |-- Community_Area: integer (nullable = true)\n",
      " |-- FBI_Code: string (nullable = true)\n",
      " |-- X_Coordinate: integer (nullable = true)\n",
      " |-- Y_Coordinate: integer (nullable = true)\n",
      " |-- Year: integer (nullable = true)\n",
      " |-- Updated_On: string (nullable = true)\n",
      " |-- Latitude: double (nullable = true)\n",
      " |-- Longitude: double (nullable = true)\n",
      " |-- Location: string (nullable = true)\n",
      "\n"
     ]
    }
   ],
   "source": [
    "df.printSchema()"
   ]
  },
  {
   "cell_type": "code",
   "execution_count": 5,
   "metadata": {},
   "outputs": [],
   "source": [
    "data_path = '/home/lorenzo/Desktop/chicago_crimes_parquet'\n",
    "df.write.parquet(data_path, 'overwrite')"
   ]
  },
  {
   "cell_type": "code",
   "execution_count": 6,
   "metadata": {},
   "outputs": [],
   "source": [
    "df2 = spark.read.format('parquet').load(data_path)"
   ]
  },
  {
   "cell_type": "code",
   "execution_count": 7,
   "metadata": {
    "scrolled": true
   },
   "outputs": [
    {
     "name": "stdout",
     "output_type": "stream",
     "text": [
      "root\n",
      " |-- ID: integer (nullable = true)\n",
      " |-- Case_Number: string (nullable = true)\n",
      " |-- Date: timestamp (nullable = true)\n",
      " |-- Block: string (nullable = true)\n",
      " |-- IUCR: string (nullable = true)\n",
      " |-- Primary_Type: string (nullable = true)\n",
      " |-- Description: string (nullable = true)\n",
      " |-- Location_Description: string (nullable = true)\n",
      " |-- Arrest: boolean (nullable = true)\n",
      " |-- Domestic: boolean (nullable = true)\n",
      " |-- Beat: integer (nullable = true)\n",
      " |-- District: integer (nullable = true)\n",
      " |-- Ward: integer (nullable = true)\n",
      " |-- Community_Area: integer (nullable = true)\n",
      " |-- FBI_Code: string (nullable = true)\n",
      " |-- X_Coordinate: integer (nullable = true)\n",
      " |-- Y_Coordinate: integer (nullable = true)\n",
      " |-- Year: integer (nullable = true)\n",
      " |-- Updated_On: string (nullable = true)\n",
      " |-- Latitude: double (nullable = true)\n",
      " |-- Longitude: double (nullable = true)\n",
      " |-- Location: string (nullable = true)\n",
      "\n"
     ]
    }
   ],
   "source": [
    "df2.printSchema()"
   ]
  },
  {
   "cell_type": "code",
   "execution_count": 10,
   "metadata": {},
   "outputs": [
    {
     "data": {
      "text/plain": [
       "[Row(ID=1734630, Case_Number='G539147', Date=datetime.datetime(2001, 9, 8, 16, 25), Block='035XX W CHICAGO AV', IUCR='0313', Primary_Type='ROBBERY', Description='ARMED: OTHER DANGEROUS WEAPON', Location_Description='STREET', Arrest=False, Domestic=False, Beat=1121, District=11, Ward=None, Community_Area=None, FBI_Code='03', X_Coordinate=1152805, Y_Coordinate=1905150, Year=2001, Updated_On='08/17/2015 03:03:40 PM', Latitude=41.895587138, Longitude=-87.714231305, Location='(41.895587138, -87.714231305)')]"
      ]
     },
     "execution_count": 10,
     "metadata": {},
     "output_type": "execute_result"
    }
   ],
   "source": [
    "df2.head(1)"
   ]
  },
  {
   "cell_type": "code",
   "execution_count": null,
   "metadata": {},
   "outputs": [],
   "source": []
  }
 ],
 "metadata": {
  "kernelspec": {
   "display_name": "newpy36",
   "language": "python",
   "name": "newpy36"
  },
  "language_info": {
   "codemirror_mode": {
    "name": "ipython",
    "version": 3
   },
   "file_extension": ".py",
   "mimetype": "text/x-python",
   "name": "python",
   "nbconvert_exporter": "python",
   "pygments_lexer": "ipython3",
   "version": "3.7.6"
  }
 },
 "nbformat": 4,
 "nbformat_minor": 4
}
