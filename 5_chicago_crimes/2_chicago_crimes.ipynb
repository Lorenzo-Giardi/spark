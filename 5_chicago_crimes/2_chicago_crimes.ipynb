{
 "cells": [
  {
   "cell_type": "markdown",
   "metadata": {},
   "source": [
    "# Chicago Crimes"
   ]
  },
  {
   "cell_type": "code",
   "execution_count": 2,
   "metadata": {},
   "outputs": [],
   "source": [
    "import pyspark.sql.functions as F"
   ]
  },
  {
   "cell_type": "code",
   "execution_count": 3,
   "metadata": {},
   "outputs": [],
   "source": [
    "from pyspark.sql import SparkSession\n",
    "spark = SparkSession.builder.getOrCreate()"
   ]
  },
  {
   "cell_type": "code",
   "execution_count": 7,
   "metadata": {},
   "outputs": [
    {
     "data": {
      "text/html": [
       "<style>pre { white-space: pre !important; }</style>"
      ],
      "text/plain": [
       "<IPython.core.display.HTML object>"
      ]
     },
     "metadata": {},
     "output_type": "display_data"
    }
   ],
   "source": [
    "from IPython.core.display import HTML\n",
    "display(HTML(\"<style>pre { white-space: pre !important; }</style>\"))"
   ]
  },
  {
   "cell_type": "markdown",
   "metadata": {},
   "source": [
    "### Load data"
   ]
  },
  {
   "cell_type": "code",
   "execution_count": 10,
   "metadata": {},
   "outputs": [],
   "source": [
    "data_path = '/home/lorenzo/Desktop/chicago_crimes_parquet'\n",
    "df = spark.read.format('parquet').load(data_path)"
   ]
  },
  {
   "cell_type": "code",
   "execution_count": 11,
   "metadata": {},
   "outputs": [
    {
     "name": "stdout",
     "output_type": "stream",
     "text": [
      "root\n",
      " |-- ID: integer (nullable = true)\n",
      " |-- Case_Number: string (nullable = true)\n",
      " |-- Date: timestamp (nullable = true)\n",
      " |-- Block: string (nullable = true)\n",
      " |-- IUCR: string (nullable = true)\n",
      " |-- Primary_Type: string (nullable = true)\n",
      " |-- Description: string (nullable = true)\n",
      " |-- Location_Description: string (nullable = true)\n",
      " |-- Arrest: boolean (nullable = true)\n",
      " |-- Domestic: boolean (nullable = true)\n",
      " |-- Beat: integer (nullable = true)\n",
      " |-- District: integer (nullable = true)\n",
      " |-- Ward: integer (nullable = true)\n",
      " |-- Community_Area: integer (nullable = true)\n",
      " |-- FBI_Code: string (nullable = true)\n",
      " |-- X_Coordinate: integer (nullable = true)\n",
      " |-- Y_Coordinate: integer (nullable = true)\n",
      " |-- Year: integer (nullable = true)\n",
      " |-- Updated_On: string (nullable = true)\n",
      " |-- Latitude: double (nullable = true)\n",
      " |-- Longitude: double (nullable = true)\n",
      " |-- Location: string (nullable = true)\n",
      "\n"
     ]
    }
   ],
   "source": [
    "df.printSchema()"
   ]
  },
  {
   "cell_type": "code",
   "execution_count": 12,
   "metadata": {},
   "outputs": [
    {
     "name": "stdout",
     "output_type": "stream",
     "text": [
      "+-------+-----------+-------------------+------------------+----+------------+--------------------+--------------------+------+--------+----+--------+----+--------------+--------+------------+------------+----+--------------------+------------+-------------+--------------------+\n",
      "|     ID|Case_Number|               Date|             Block|IUCR|Primary_Type|         Description|Location_Description|Arrest|Domestic|Beat|District|Ward|Community_Area|FBI_Code|X_Coordinate|Y_Coordinate|Year|          Updated_On|    Latitude|    Longitude|            Location|\n",
      "+-------+-----------+-------------------+------------------+----+------------+--------------------+--------------------+------+--------+----+--------+----+--------------+--------+------------+------------+----+--------------------+------------+-------------+--------------------+\n",
      "|1734630|    G539147|2001-09-08 16:25:00|035XX W CHICAGO AV|0313|     ROBBERY|ARMED: OTHER DANG...|              STREET| false|   false|1121|      11|null|          null|      03|     1152805|     1905150|2001|08/17/2015 03:03:...|41.895587138|-87.714231305|(41.895587138, -8...|\n",
      "|1734631|    G537420|2001-09-07 21:42:46|033XX W JACKSON BL|0460|     BATTERY|              SIMPLE|           RESIDENCE| false|    true|1134|      11|null|          null|     08B|     1154369|     1898457|2001|08/17/2015 03:03:...|41.877189769|-87.708666008|(41.877189769, -8...|\n",
      "|1734632|    G533191|2001-09-06 04:53:23|039XX W JACKSON BL|2027|   NARCOTICS|         POSS: CRACK|            SIDEWALK|  true|   false|1122|      11|null|          null|      18|     1150258|     1898438|2001|08/17/2015 03:03:...|41.877218743|-87.723761028|(41.877218743, -8...|\n",
      "|1734633|    G525710|2001-09-02 17:28:00| 061XX S RACINE AV|2024|   NARCOTICS| POSS: HEROIN(WHITE)|               OTHER|  true|   false| 713|       7|null|          null|      18|     1169331|     1864096|2001|08/17/2015 03:03:...|  41.7825879|-87.654726567|(41.7825879, -87....|\n",
      "|1734634|    G532670|2001-09-05 20:48:07|097XX S WALLACE ST|1811|   NARCOTICS|POSS: CANNABIS 30...|       PARK PROPERTY|  true|   false|2223|      22|null|          null|      18|     1174068|     1839964|2001|08/17/2015 03:03:...|41.716262755|-87.638074307|(41.716262755, -8...|\n",
      "+-------+-----------+-------------------+------------------+----+------------+--------------------+--------------------+------+--------+----+--------+----+--------------+--------+------------+------------+----+--------------------+------------+-------------+--------------------+\n",
      "only showing top 5 rows\n",
      "\n"
     ]
    }
   ],
   "source": [
    "df.show(5)"
   ]
  },
  {
   "cell_type": "markdown",
   "metadata": {},
   "source": [
    "### Crimes EDA"
   ]
  },
  {
   "cell_type": "code",
   "execution_count": 14,
   "metadata": {},
   "outputs": [
    {
     "name": "stdout",
     "output_type": "stream",
     "text": [
      "+-------------------+-------+\n",
      "|       Primary_Type|  count|\n",
      "+-------------------+-------+\n",
      "|              THEFT|1418315|\n",
      "|            BATTERY|1231958|\n",
      "|    CRIMINAL DAMAGE| 771382|\n",
      "|          NARCOTICS| 711616|\n",
      "|      OTHER OFFENSE| 418811|\n",
      "|            ASSAULT| 418479|\n",
      "|           BURGLARY| 388008|\n",
      "|MOTOR VEHICLE THEFT| 314113|\n",
      "| DECEPTIVE PRACTICE| 265487|\n",
      "|            ROBBERY| 255565|\n",
      "+-------------------+-------+\n",
      "only showing top 10 rows\n",
      "\n"
     ]
    }
   ],
   "source": [
    "df.groupBy('Primary_Type').count().orderBy('count', ascending=False).show(10)"
   ]
  },
  {
   "cell_type": "code",
   "execution_count": 17,
   "metadata": {},
   "outputs": [
    {
     "name": "stdout",
     "output_type": "stream",
     "text": [
      "+--------------------+-------+\n",
      "|Location_Description|  count|\n",
      "+--------------------+-------+\n",
      "|              STREET|1770352|\n",
      "|           RESIDENCE|1144515|\n",
      "|           APARTMENT| 698074|\n",
      "|            SIDEWALK| 665439|\n",
      "|               OTHER| 256867|\n",
      "|PARKING LOT/GARAG...| 193788|\n",
      "|               ALLEY| 150887|\n",
      "|SCHOOL, PUBLIC, B...| 142327|\n",
      "|    RESIDENCE-GARAGE| 131628|\n",
      "|  SMALL RETAIL STORE| 119267|\n",
      "+--------------------+-------+\n",
      "only showing top 10 rows\n",
      "\n"
     ]
    }
   ],
   "source": [
    "df.groupBy('Location_Description').count().orderBy('count', ascending=False).show(10)"
   ]
  },
  {
   "cell_type": "code",
   "execution_count": 24,
   "metadata": {},
   "outputs": [
    {
     "name": "stdout",
     "output_type": "stream",
     "text": [
      "Arrest ratio: 0.1920836784229473\n"
     ]
    }
   ],
   "source": [
    "arrest_count = df.filter(df.Arrest == 'true').count()\n",
    "no_arrest_count = df.filter(df.Arrest == 'false').count()\n",
    "\n",
    "arrest_ratio = arrest_count / (no_arrest_count + no_arrest_count)\n",
    "print(f'Arrest ratio: {arrest_ratio}')"
   ]
  },
  {
   "cell_type": "code",
   "execution_count": 20,
   "metadata": {},
   "outputs": [
    {
     "name": "stdout",
     "output_type": "stream",
     "text": [
      "+----+------+\n",
      "|Year| count|\n",
      "+----+------+\n",
      "|2018|232731|\n",
      "|2017|268517|\n",
      "|2016|269286|\n",
      "|2015|264325|\n",
      "|2014|275442|\n",
      "|2013|307200|\n",
      "|2012|336061|\n",
      "|2011|351824|\n",
      "|2010|370317|\n",
      "|2009|392715|\n",
      "+----+------+\n",
      "only showing top 10 rows\n",
      "\n"
     ]
    }
   ],
   "source": [
    "df.groupBy('Year').count().orderBy('Year', ascending=False).show(10)"
   ]
  },
  {
   "cell_type": "code",
   "execution_count": null,
   "metadata": {},
   "outputs": [],
   "source": []
  }
 ],
 "metadata": {
  "kernelspec": {
   "display_name": "newpy36",
   "language": "python",
   "name": "newpy36"
  },
  "language_info": {
   "codemirror_mode": {
    "name": "ipython",
    "version": 3
   },
   "file_extension": ".py",
   "mimetype": "text/x-python",
   "name": "python",
   "nbconvert_exporter": "python",
   "pygments_lexer": "ipython3",
   "version": "3.7.6"
  }
 },
 "nbformat": 4,
 "nbformat_minor": 4
}
