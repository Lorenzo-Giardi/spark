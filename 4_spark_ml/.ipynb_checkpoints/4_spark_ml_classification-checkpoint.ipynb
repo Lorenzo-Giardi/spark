{
 "cells": [
  {
   "cell_type": "markdown",
   "metadata": {},
   "source": [
    "# Spark-ML Classification"
   ]
  },
  {
   "cell_type": "code",
   "execution_count": 1,
   "metadata": {},
   "outputs": [],
   "source": [
    "from pyspark.sql import SparkSession\n",
    "import pyspark.sql.functions as F\n",
    "from pyspark.ml.feature import VectorAssembler, MinMaxScaler, StandardScaler, StringIndexer\n",
    "from pyspark.ml.classification import NaiveBayes, LogisticRegression, MultilayerPerceptronClassifier, \\\n",
    "                                      DecisionTreeClassifier, RandomForestClassifier\n",
    "from pyspark.ml.evaluation import MulticlassClassificationEvaluator"
   ]
  },
  {
   "cell_type": "code",
   "execution_count": 2,
   "metadata": {},
   "outputs": [],
   "source": [
    "spark = SparkSession.builder.getOrCreate()"
   ]
  },
  {
   "cell_type": "code",
   "execution_count": 3,
   "metadata": {},
   "outputs": [
    {
     "name": "stdout",
     "output_type": "stream",
     "text": [
      "+------------+-----------+------------+-----------+-------+\n",
      "|sepal_length|sepal_width|petal_length|petal_width|species|\n",
      "+------------+-----------+------------+-----------+-------+\n",
      "|         5.1|        3.5|         1.4|        0.2| setosa|\n",
      "|         4.9|        3.0|         1.4|        0.2| setosa|\n",
      "|         4.7|        3.2|         1.3|        0.2| setosa|\n",
      "|         4.6|        3.1|         1.5|        0.2| setosa|\n",
      "|         5.0|        3.6|         1.4|        0.2| setosa|\n",
      "|         5.4|        3.9|         1.7|        0.4| setosa|\n",
      "|         4.6|        3.4|         1.4|        0.3| setosa|\n",
      "|         5.0|        3.4|         1.5|        0.2| setosa|\n",
      "|         4.4|        2.9|         1.4|        0.2| setosa|\n",
      "|         4.9|        3.1|         1.5|        0.1| setosa|\n",
      "+------------+-----------+------------+-----------+-------+\n",
      "only showing top 10 rows\n",
      "\n"
     ]
    }
   ],
   "source": [
    "data_path = '/home/lorenzo/spark-repo/0_data/iris.csv'\n",
    "\n",
    "df = spark.read.option('header', 'True') \\\n",
    "                .option('inferSchema', 'True') \\\n",
    "                .csv(data_path)\n",
    "\n",
    "df.show(10)"
   ]
  },
  {
   "cell_type": "markdown",
   "metadata": {},
   "source": [
    "### Vectorized dataframe"
   ]
  },
  {
   "cell_type": "code",
   "execution_count": 4,
   "metadata": {},
   "outputs": [],
   "source": [
    "va = VectorAssembler(inputCols=[\"sepal_length\", \"sepal_width\", \"petal_length\", \"petal_width\"],\n",
    "                     outputCol=\"features\")\n",
    "vect_df = va.transform(df)"
   ]
  },
  {
   "cell_type": "code",
   "execution_count": 5,
   "metadata": {},
   "outputs": [
    {
     "name": "stdout",
     "output_type": "stream",
     "text": [
      "+------------+-----------+------------+-----------+-------+-----------------+\n",
      "|sepal_length|sepal_width|petal_length|petal_width|species|         features|\n",
      "+------------+-----------+------------+-----------+-------+-----------------+\n",
      "|         5.1|        3.5|         1.4|        0.2| setosa|[5.1,3.5,1.4,0.2]|\n",
      "|         4.9|        3.0|         1.4|        0.2| setosa|[4.9,3.0,1.4,0.2]|\n",
      "|         4.7|        3.2|         1.3|        0.2| setosa|[4.7,3.2,1.3,0.2]|\n",
      "|         4.6|        3.1|         1.5|        0.2| setosa|[4.6,3.1,1.5,0.2]|\n",
      "|         5.0|        3.6|         1.4|        0.2| setosa|[5.0,3.6,1.4,0.2]|\n",
      "|         5.4|        3.9|         1.7|        0.4| setosa|[5.4,3.9,1.7,0.4]|\n",
      "|         4.6|        3.4|         1.4|        0.3| setosa|[4.6,3.4,1.4,0.3]|\n",
      "|         5.0|        3.4|         1.5|        0.2| setosa|[5.0,3.4,1.5,0.2]|\n",
      "|         4.4|        2.9|         1.4|        0.2| setosa|[4.4,2.9,1.4,0.2]|\n",
      "|         4.9|        3.1|         1.5|        0.1| setosa|[4.9,3.1,1.5,0.1]|\n",
      "+------------+-----------+------------+-----------+-------+-----------------+\n",
      "only showing top 10 rows\n",
      "\n"
     ]
    }
   ],
   "source": [
    "vect_df.show(10)"
   ]
  },
  {
   "cell_type": "markdown",
   "metadata": {},
   "source": [
    "### Encode target label to integer value"
   ]
  },
  {
   "cell_type": "code",
   "execution_count": 6,
   "metadata": {},
   "outputs": [],
   "source": [
    "indexer = StringIndexer(inputCol='species', outputCol=\"label\")\n",
    "ind_vect_df = indexer.fit(vect_df).transform(vect_df)"
   ]
  },
  {
   "cell_type": "code",
   "execution_count": 7,
   "metadata": {},
   "outputs": [
    {
     "name": "stdout",
     "output_type": "stream",
     "text": [
      "+------------+-----------+------------+-----------+-------+-----------------+-----+\n",
      "|sepal_length|sepal_width|petal_length|petal_width|species|         features|label|\n",
      "+------------+-----------+------------+-----------+-------+-----------------+-----+\n",
      "|         5.1|        3.5|         1.4|        0.2| setosa|[5.1,3.5,1.4,0.2]|  2.0|\n",
      "|         4.9|        3.0|         1.4|        0.2| setosa|[4.9,3.0,1.4,0.2]|  2.0|\n",
      "|         4.7|        3.2|         1.3|        0.2| setosa|[4.7,3.2,1.3,0.2]|  2.0|\n",
      "|         4.6|        3.1|         1.5|        0.2| setosa|[4.6,3.1,1.5,0.2]|  2.0|\n",
      "|         5.0|        3.6|         1.4|        0.2| setosa|[5.0,3.6,1.4,0.2]|  2.0|\n",
      "|         5.4|        3.9|         1.7|        0.4| setosa|[5.4,3.9,1.7,0.4]|  2.0|\n",
      "|         4.6|        3.4|         1.4|        0.3| setosa|[4.6,3.4,1.4,0.3]|  2.0|\n",
      "|         5.0|        3.4|         1.5|        0.2| setosa|[5.0,3.4,1.5,0.2]|  2.0|\n",
      "|         4.4|        2.9|         1.4|        0.2| setosa|[4.4,2.9,1.4,0.2]|  2.0|\n",
      "|         4.9|        3.1|         1.5|        0.1| setosa|[4.9,3.1,1.5,0.1]|  2.0|\n",
      "+------------+-----------+------------+-----------+-------+-----------------+-----+\n",
      "only showing top 10 rows\n",
      "\n"
     ]
    }
   ],
   "source": [
    "ind_vect_df.show(10)"
   ]
  },
  {
   "cell_type": "markdown",
   "metadata": {},
   "source": [
    "### Train-test split"
   ]
  },
  {
   "cell_type": "code",
   "execution_count": 8,
   "metadata": {},
   "outputs": [
    {
     "name": "stdout",
     "output_type": "stream",
     "text": [
      "Train df length: 92\n",
      "Test df length: 58\n"
     ]
    }
   ],
   "source": [
    "train_df, test_df = ind_vect_df.randomSplit([0.6, 0.4], 1)\n",
    "print(f'Train df length: {train_df.count()}')\n",
    "print(f'Test df length: {test_df.count()}')"
   ]
  },
  {
   "cell_type": "markdown",
   "metadata": {},
   "source": [
    "### Naive Bayes"
   ]
  },
  {
   "cell_type": "code",
   "execution_count": 9,
   "metadata": {},
   "outputs": [],
   "source": [
    "nb = NaiveBayes(modelType='multinomial')\n",
    "nb_model = nb.fit(train_df)\n",
    "nb_preds = nb_model.transform(test_df)"
   ]
  },
  {
   "cell_type": "code",
   "execution_count": 10,
   "metadata": {},
   "outputs": [
    {
     "name": "stdout",
     "output_type": "stream",
     "text": [
      "+----------+-----+--------------------+----------+\n",
      "|   species|label|         probability|prediction|\n",
      "+----------+-----+--------------------+----------+\n",
      "|    setosa|  2.0|[0.29235086158619...|       2.0|\n",
      "|    setosa|  2.0|[0.22557259321273...|       2.0|\n",
      "|    setosa|  2.0|[0.20910187293567...|       2.0|\n",
      "|    setosa|  2.0|[0.22598041891034...|       2.0|\n",
      "|versicolor|  0.0|[0.53256925394281...|       0.0|\n",
      "|    setosa|  2.0|[0.21550771742625...|       2.0|\n",
      "|    setosa|  2.0|[0.20020012489469...|       2.0|\n",
      "|    setosa|  2.0|[0.23510176487596...|       2.0|\n",
      "|    setosa|  2.0|[0.23996071368133...|       2.0|\n",
      "|    setosa|  2.0|[0.16817219327217...|       2.0|\n",
      "+----------+-----+--------------------+----------+\n",
      "only showing top 10 rows\n",
      "\n"
     ]
    }
   ],
   "source": [
    "nb_preds.select('species', 'label', 'probability', 'prediction').show(10)"
   ]
  },
  {
   "cell_type": "code",
   "execution_count": 11,
   "metadata": {},
   "outputs": [
    {
     "name": "stdout",
     "output_type": "stream",
     "text": [
      "Naive Bayes accuracy: 0.5862068965517241\n"
     ]
    }
   ],
   "source": [
    "evaluator = MulticlassClassificationEvaluator(labelCol='label', predictionCol='prediction', metricName='accuracy')\n",
    "nb_acc = evaluator.evaluate(nb_preds)\n",
    "print(f'Naive Bayes accuracy: {nb_acc}')"
   ]
  },
  {
   "cell_type": "markdown",
   "metadata": {},
   "source": [
    "### Logistic Regression"
   ]
  },
  {
   "cell_type": "code",
   "execution_count": 12,
   "metadata": {},
   "outputs": [],
   "source": [
    "lr = LogisticRegression()\n",
    "lr_model = lr.fit(train_df)\n",
    "lr_preds = lr_model.transform(test_df)"
   ]
  },
  {
   "cell_type": "code",
   "execution_count": 13,
   "metadata": {},
   "outputs": [
    {
     "name": "stdout",
     "output_type": "stream",
     "text": [
      "+----------+-----+--------------------+----------+\n",
      "|   species|label|         probability|prediction|\n",
      "+----------+-----+--------------------+----------+\n",
      "|    setosa|  2.0|       [1.0,0.0,0.0]|       0.0|\n",
      "|    setosa|  2.0|       [0.0,0.0,1.0]|       2.0|\n",
      "|    setosa|  2.0|       [0.0,0.0,1.0]|       2.0|\n",
      "|    setosa|  2.0|       [0.0,0.0,1.0]|       2.0|\n",
      "|versicolor|  0.0|       [1.0,0.0,0.0]|       0.0|\n",
      "|    setosa|  2.0|       [0.0,0.0,1.0]|       2.0|\n",
      "|    setosa|  2.0|       [0.0,0.0,1.0]|       2.0|\n",
      "|    setosa|  2.0|[8.20855181417647...|       2.0|\n",
      "|    setosa|  2.0|       [0.0,0.0,1.0]|       2.0|\n",
      "|    setosa|  2.0|       [0.0,0.0,1.0]|       2.0|\n",
      "+----------+-----+--------------------+----------+\n",
      "only showing top 10 rows\n",
      "\n"
     ]
    }
   ],
   "source": [
    "lr_preds.select('species', 'label', 'probability', 'prediction').show(10)"
   ]
  },
  {
   "cell_type": "code",
   "execution_count": 14,
   "metadata": {},
   "outputs": [
    {
     "name": "stdout",
     "output_type": "stream",
     "text": [
      "Logistic regression accuracy: 0.9310344827586207\n"
     ]
    }
   ],
   "source": [
    "evaluator = MulticlassClassificationEvaluator(labelCol='label', predictionCol='prediction', metricName='accuracy')\n",
    "lr_acc = evaluator.evaluate(lr_preds)\n",
    "print(f'Logistic regression accuracy: {lr_acc}')"
   ]
  },
  {
   "cell_type": "markdown",
   "metadata": {},
   "source": [
    "### Multilayer Perceptron"
   ]
  },
  {
   "cell_type": "code",
   "execution_count": 15,
   "metadata": {},
   "outputs": [],
   "source": [
    "mlp = MultilayerPerceptronClassifier(layers=[4, 4, 4, 3], seed=875)\n",
    "mlp_model = mlp.fit(train_df)\n",
    "mlp_preds = mlp_model.transform(test_df)"
   ]
  },
  {
   "cell_type": "code",
   "execution_count": 16,
   "metadata": {},
   "outputs": [
    {
     "name": "stdout",
     "output_type": "stream",
     "text": [
      "+----------+-----+--------------------+----------+\n",
      "|   species|label|         probability|prediction|\n",
      "+----------+-----+--------------------+----------+\n",
      "|    setosa|  2.0|[4.75256285651320...|       2.0|\n",
      "|    setosa|  2.0|[4.75258142890000...|       2.0|\n",
      "|    setosa|  2.0|[4.75262266491023...|       2.0|\n",
      "|    setosa|  2.0|[4.75256989739500...|       2.0|\n",
      "|versicolor|  0.0|[1.0,2.0441260514...|       0.0|\n",
      "|    setosa|  2.0|[4.75258621898566...|       2.0|\n",
      "|    setosa|  2.0|[4.75258399298743...|       2.0|\n",
      "|    setosa|  2.0|[4.75255843096186...|       2.0|\n",
      "|    setosa|  2.0|[4.75256252147323...|       2.0|\n",
      "|    setosa|  2.0|[4.75265373795343...|       2.0|\n",
      "+----------+-----+--------------------+----------+\n",
      "only showing top 10 rows\n",
      "\n"
     ]
    }
   ],
   "source": [
    "mlp_preds.select('species', 'label', 'probability', 'prediction').show(10)"
   ]
  },
  {
   "cell_type": "code",
   "execution_count": 17,
   "metadata": {},
   "outputs": [
    {
     "name": "stdout",
     "output_type": "stream",
     "text": [
      "Multilayer perceptron accuracy: 0.9655172413793104\n"
     ]
    }
   ],
   "source": [
    "evaluator = MulticlassClassificationEvaluator(labelCol='label', predictionCol='prediction', metricName='accuracy')\n",
    "mlp_acc = evaluator.evaluate(mlp_preds)\n",
    "print(f'Multilayer perceptron accuracy: {mlp_acc}')"
   ]
  },
  {
   "cell_type": "markdown",
   "metadata": {},
   "source": [
    "### Random Forest"
   ]
  },
  {
   "cell_type": "code",
   "execution_count": 18,
   "metadata": {},
   "outputs": [],
   "source": [
    "rf = RandomForestClassifier(numTrees=100, seed = 543)\n",
    "rf_model = rf.fit(train_df)\n",
    "rf_preds = rf_model.transform(test_df)"
   ]
  },
  {
   "cell_type": "code",
   "execution_count": 19,
   "metadata": {},
   "outputs": [
    {
     "name": "stdout",
     "output_type": "stream",
     "text": [
      "+----------+-----+--------------------+----------+\n",
      "|   species|label|         probability|prediction|\n",
      "+----------+-----+--------------------+----------+\n",
      "|    setosa|  2.0|    [0.01,0.03,0.96]|       2.0|\n",
      "|    setosa|  2.0|       [0.0,0.0,1.0]|       2.0|\n",
      "|    setosa|  2.0|       [0.0,0.0,1.0]|       2.0|\n",
      "|    setosa|  2.0|     [0.01,0.0,0.99]|       2.0|\n",
      "|versicolor|  0.0|[0.75907618151222...|       0.0|\n",
      "|    setosa|  2.0|       [0.0,0.0,1.0]|       2.0|\n",
      "|    setosa|  2.0|       [0.0,0.0,1.0]|       2.0|\n",
      "|    setosa|  2.0|     [0.02,0.0,0.98]|       2.0|\n",
      "|    setosa|  2.0|     [0.01,0.0,0.99]|       2.0|\n",
      "|    setosa|  2.0|       [0.0,0.0,1.0]|       2.0|\n",
      "+----------+-----+--------------------+----------+\n",
      "only showing top 10 rows\n",
      "\n"
     ]
    }
   ],
   "source": [
    "rf_preds.select('species', 'label', 'probability', 'prediction').show(10)"
   ]
  },
  {
   "cell_type": "code",
   "execution_count": 20,
   "metadata": {},
   "outputs": [
    {
     "name": "stdout",
     "output_type": "stream",
     "text": [
      "Random forest accuracy: 0.9482758620689655\n"
     ]
    }
   ],
   "source": [
    "evaluator = MulticlassClassificationEvaluator(labelCol='label', predictionCol='prediction', metricName='accuracy')\n",
    "rf_acc = evaluator.evaluate(rf_preds)\n",
    "print(f'Random forest accuracy: {rf_acc}')"
   ]
  },
  {
   "cell_type": "code",
   "execution_count": null,
   "metadata": {},
   "outputs": [],
   "source": []
  }
 ],
 "metadata": {
  "kernelspec": {
   "display_name": "newpy36",
   "language": "python",
   "name": "newpy36"
  },
  "language_info": {
   "codemirror_mode": {
    "name": "ipython",
    "version": 3
   },
   "file_extension": ".py",
   "mimetype": "text/x-python",
   "name": "python",
   "nbconvert_exporter": "python",
   "pygments_lexer": "ipython3",
   "version": "3.7.6"
  }
 },
 "nbformat": 4,
 "nbformat_minor": 4
}
