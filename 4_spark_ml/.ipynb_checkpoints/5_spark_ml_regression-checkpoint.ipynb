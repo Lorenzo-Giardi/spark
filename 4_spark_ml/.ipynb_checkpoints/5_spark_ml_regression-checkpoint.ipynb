{
 "cells": [
  {
   "cell_type": "markdown",
   "metadata": {},
   "source": [
    "# Spark-ML Regression"
   ]
  },
  {
   "cell_type": "code",
   "execution_count": 1,
   "metadata": {},
   "outputs": [],
   "source": [
    "from pyspark.sql import SparkSession\n",
    "import pyspark.sql.functions as F\n",
    "from pyspark.ml.feature import VectorAssembler, MinMaxScaler, StandardScaler, StringIndexer\n",
    "from pyspark.ml.regression import LinearRegression, DecisionTreeRegressor, GBTRegressor, RandomForestRegressor\n",
    "from pyspark.ml.evaluation import RegressionEvaluator"
   ]
  },
  {
   "cell_type": "code",
   "execution_count": 2,
   "metadata": {},
   "outputs": [],
   "source": [
    "spark = SparkSession.builder.getOrCreate()"
   ]
  },
  {
   "cell_type": "code",
   "execution_count": 3,
   "metadata": {},
   "outputs": [
    {
     "name": "stdout",
     "output_type": "stream",
     "text": [
      "+-----+-----+-------+-----+------+\n",
      "|   AT|    V|     AP|   RH|    PE|\n",
      "+-----+-----+-------+-----+------+\n",
      "|14.96|41.76|1024.07|73.17|463.26|\n",
      "|25.18|62.96|1020.04|59.08|444.37|\n",
      "| 5.11| 39.4|1012.16|92.14|488.56|\n",
      "|20.86|57.32|1010.24|76.64|446.48|\n",
      "|10.82| 37.5|1009.23|96.62| 473.9|\n",
      "|26.27|59.44|1012.23|58.77|443.67|\n",
      "|15.89|43.96|1014.02|75.24|467.35|\n",
      "| 9.48|44.71|1019.12|66.43|478.42|\n",
      "|14.64| 45.0|1021.78|41.25|475.98|\n",
      "|11.74|43.56|1015.14|70.72| 477.5|\n",
      "+-----+-----+-------+-----+------+\n",
      "only showing top 10 rows\n",
      "\n"
     ]
    }
   ],
   "source": [
    "data_path = '/home/lorenzo/spark-repo/0_data/power.csv'\n",
    "\n",
    "df = spark.read.option('header', 'True') \\\n",
    "                .option('inferSchema', 'True') \\\n",
    "                .csv(data_path)\n",
    "\n",
    "df.show(10)"
   ]
  },
  {
   "cell_type": "code",
   "execution_count": 4,
   "metadata": {},
   "outputs": [
    {
     "data": {
      "text/plain": [
       "9568"
      ]
     },
     "execution_count": 4,
     "metadata": {},
     "output_type": "execute_result"
    }
   ],
   "source": [
    "df.count()"
   ]
  },
  {
   "cell_type": "markdown",
   "metadata": {},
   "source": [
    "### Vectorized dataframe"
   ]
  },
  {
   "cell_type": "code",
   "execution_count": 5,
   "metadata": {},
   "outputs": [],
   "source": [
    "va = VectorAssembler(inputCols=[\"AT\", \"V\", \"AP\", \"RH\"], outputCol=\"features\")\n",
    "vect_df = va.transform(df)"
   ]
  },
  {
   "cell_type": "code",
   "execution_count": 6,
   "metadata": {},
   "outputs": [
    {
     "name": "stdout",
     "output_type": "stream",
     "text": [
      "+-----+-----+-------+-----+------+--------------------+\n",
      "|   AT|    V|     AP|   RH|    PE|            features|\n",
      "+-----+-----+-------+-----+------+--------------------+\n",
      "|14.96|41.76|1024.07|73.17|463.26|[14.96,41.76,1024...|\n",
      "|25.18|62.96|1020.04|59.08|444.37|[25.18,62.96,1020...|\n",
      "| 5.11| 39.4|1012.16|92.14|488.56|[5.11,39.4,1012.1...|\n",
      "|20.86|57.32|1010.24|76.64|446.48|[20.86,57.32,1010...|\n",
      "|10.82| 37.5|1009.23|96.62| 473.9|[10.82,37.5,1009....|\n",
      "|26.27|59.44|1012.23|58.77|443.67|[26.27,59.44,1012...|\n",
      "|15.89|43.96|1014.02|75.24|467.35|[15.89,43.96,1014...|\n",
      "| 9.48|44.71|1019.12|66.43|478.42|[9.48,44.71,1019....|\n",
      "|14.64| 45.0|1021.78|41.25|475.98|[14.64,45.0,1021....|\n",
      "|11.74|43.56|1015.14|70.72| 477.5|[11.74,43.56,1015...|\n",
      "+-----+-----+-------+-----+------+--------------------+\n",
      "only showing top 10 rows\n",
      "\n"
     ]
    }
   ],
   "source": [
    "vect_df.show(10)"
   ]
  },
  {
   "cell_type": "markdown",
   "metadata": {},
   "source": [
    "### Train-test set split"
   ]
  },
  {
   "cell_type": "code",
   "execution_count": 7,
   "metadata": {},
   "outputs": [
    {
     "name": "stdout",
     "output_type": "stream",
     "text": [
      "Train df length: 7155\n",
      "Test df length: 2413\n"
     ]
    }
   ],
   "source": [
    "train_df, test_df = vect_df.randomSplit([0.75, 0.25], 1)\n",
    "print(f'Train df length: {train_df.count()}')\n",
    "print(f'Test df length: {test_df.count()}')"
   ]
  },
  {
   "cell_type": "markdown",
   "metadata": {},
   "source": [
    "### Linear Regression"
   ]
  },
  {
   "cell_type": "code",
   "execution_count": 8,
   "metadata": {},
   "outputs": [
    {
     "name": "stdout",
     "output_type": "stream",
     "text": [
      "+----+-----+-------+-----+------+--------------------+------------------+\n",
      "|  AT|    V|     AP|   RH|    PE|            features|        prediction|\n",
      "+----+-----+-------+-----+------+--------------------+------------------+\n",
      "|2.71|39.42|1026.66|81.11| 489.3|[2.71,39.42,1026....|490.82415199958245|\n",
      "|3.26|41.31| 996.32|100.0|489.38|[3.26,41.31,996.3...| 484.6680881425009|\n",
      "| 3.6|35.19|1018.73| 99.1|488.98|[3.6,35.19,1018.7...|  486.810803461217|\n",
      "|3.68|39.64|1011.31|84.05|490.02|[3.68,39.64,1011....| 487.5612268795559|\n",
      "|3.73|39.42| 1024.4|82.42|488.58|[3.73,39.42,1024....| 488.4824229410993|\n",
      "|3.91|35.47|1016.92|86.03|488.67|[3.91,35.47,1016....| 488.0916328544706|\n",
      "|3.99| 39.9|1009.74|96.81|490.91|[3.99,39.9,1009.7...|  484.793805921224|\n",
      "|4.08|35.19|1018.87|97.07|489.44|[4.08,35.19,1018....|486.19077778282553|\n",
      "|4.15| 39.9|1007.62|95.69| 489.8|[4.15,39.9,1007.6...|484.53923656301646|\n",
      "|4.16|35.47|1017.72|88.49| 486.7|[4.16,35.47,1017....| 487.2545181467404|\n",
      "+----+-----+-------+-----+------+--------------------+------------------+\n",
      "only showing top 10 rows\n",
      "\n"
     ]
    }
   ],
   "source": [
    "lr = LinearRegression(featuresCol='features', labelCol='PE')\n",
    "lr_model = lr.fit(train_df)\n",
    "lr_preds = lr_model.transform(test_df)\n",
    "lr_preds.show(10)"
   ]
  },
  {
   "cell_type": "code",
   "execution_count": 9,
   "metadata": {},
   "outputs": [
    {
     "data": {
      "text/plain": [
       "DenseVector([-1.9733, -0.2377, 0.0543, -0.1574])"
      ]
     },
     "execution_count": 9,
     "metadata": {},
     "output_type": "execute_result"
    }
   ],
   "source": [
    "lr_model.coefficients"
   ]
  },
  {
   "cell_type": "code",
   "execution_count": 10,
   "metadata": {},
   "outputs": [
    {
     "data": {
      "text/plain": [
       "462.54757449414075"
      ]
     },
     "execution_count": 10,
     "metadata": {},
     "output_type": "execute_result"
    }
   ],
   "source": [
    "lr_model.intercept"
   ]
  },
  {
   "cell_type": "code",
   "execution_count": 11,
   "metadata": {},
   "outputs": [
    {
     "data": {
      "text/plain": [
       "4.5899552591471"
      ]
     },
     "execution_count": 11,
     "metadata": {},
     "output_type": "execute_result"
    }
   ],
   "source": [
    "lr_model.summary.rootMeanSquaredError"
   ]
  },
  {
   "cell_type": "markdown",
   "metadata": {},
   "source": [
    "###  Random Forest"
   ]
  },
  {
   "cell_type": "code",
   "execution_count": 12,
   "metadata": {},
   "outputs": [
    {
     "name": "stdout",
     "output_type": "stream",
     "text": [
      "+----+-----+-------+-----+------+--------------------+------------------+\n",
      "|  AT|    V|     AP|   RH|    PE|            features|        prediction|\n",
      "+----+-----+-------+-----+------+--------------------+------------------+\n",
      "|2.71|39.42|1026.66|81.11| 489.3|[2.71,39.42,1026....|483.71364121704397|\n",
      "|3.26|41.31| 996.32|100.0|489.38|[3.26,41.31,996.3...| 482.2969900958718|\n",
      "| 3.6|35.19|1018.73| 99.1|488.98|[3.6,35.19,1018.7...|482.85797131897345|\n",
      "|3.68|39.64|1011.31|84.05|490.02|[3.68,39.64,1011....|484.08564411681783|\n",
      "|3.73|39.42| 1024.4|82.42|488.58|[3.73,39.42,1024....| 483.7607579896588|\n",
      "|3.91|35.47|1016.92|86.03|488.67|[3.91,35.47,1016....| 484.1826771168146|\n",
      "|3.99| 39.9|1009.74|96.81|490.91|[3.99,39.9,1009.7...|483.52673851896515|\n",
      "|4.08|35.19|1018.87|97.07|489.44|[4.08,35.19,1018....|482.85797131897345|\n",
      "|4.15| 39.9|1007.62|95.69| 489.8|[4.15,39.9,1007.6...|483.16941713315913|\n",
      "|4.16|35.47|1017.72|88.49| 486.7|[4.16,35.47,1017....| 484.1410256664014|\n",
      "+----+-----+-------+-----+------+--------------------+------------------+\n",
      "only showing top 10 rows\n",
      "\n"
     ]
    }
   ],
   "source": [
    "rf = RandomForestRegressor(featuresCol='features', labelCol='PE', numTrees=100, seed = 352)\n",
    "rf_model = rf.fit(train_df)\n",
    "rf_preds = rf_model.transform(test_df)\n",
    "rf_preds.show(10)"
   ]
  },
  {
   "cell_type": "code",
   "execution_count": 13,
   "metadata": {},
   "outputs": [
    {
     "name": "stdout",
     "output_type": "stream",
     "text": [
      "Random forest RMSE: 4.218899624237537\n"
     ]
    }
   ],
   "source": [
    "evaluator = RegressionEvaluator(labelCol='PE', predictionCol='prediction', metricName='rmse')\n",
    "rf_rmse = evaluator.evaluate(rf_preds)\n",
    "print(f'Random forest RMSE: {rf_rmse}')"
   ]
  },
  {
   "cell_type": "markdown",
   "metadata": {},
   "source": [
    "### Gradient Boosting"
   ]
  },
  {
   "cell_type": "code",
   "execution_count": 14,
   "metadata": {},
   "outputs": [
    {
     "name": "stdout",
     "output_type": "stream",
     "text": [
      "+----+-----+-------+-----+------+--------------------+------------------+\n",
      "|  AT|    V|     AP|   RH|    PE|            features|        prediction|\n",
      "+----+-----+-------+-----+------+--------------------+------------------+\n",
      "|2.71|39.42|1026.66|81.11| 489.3|[2.71,39.42,1026....|485.05875573066527|\n",
      "|3.26|41.31| 996.32|100.0|489.38|[3.26,41.31,996.3...|485.66090010615886|\n",
      "| 3.6|35.19|1018.73| 99.1|488.98|[3.6,35.19,1018.7...|487.15563773870065|\n",
      "|3.68|39.64|1011.31|84.05|490.02|[3.68,39.64,1011....|484.72530227228066|\n",
      "|3.73|39.42| 1024.4|82.42|488.58|[3.73,39.42,1024....| 484.5339998437822|\n",
      "|3.91|35.47|1016.92|86.03|488.67|[3.91,35.47,1016....|487.18747465964606|\n",
      "|3.99| 39.9|1009.74|96.81|490.91|[3.99,39.9,1009.7...| 486.6459902874491|\n",
      "|4.08|35.19|1018.87|97.07|489.44|[4.08,35.19,1018....|487.15563773870065|\n",
      "|4.15| 39.9|1007.62|95.69| 489.8|[4.15,39.9,1007.6...| 486.5389263381428|\n",
      "|4.16|35.47|1017.72|88.49| 486.7|[4.16,35.47,1017....| 487.1332222257253|\n",
      "+----+-----+-------+-----+------+--------------------+------------------+\n",
      "only showing top 10 rows\n",
      "\n"
     ]
    }
   ],
   "source": [
    "gbt = GBTRegressor(featuresCol='features', labelCol='PE')\n",
    "gbt_model = gbt.fit(train_df)\n",
    "gbt_preds = gbt_model.transform(test_df)\n",
    "gbt_preds.show(10)"
   ]
  },
  {
   "cell_type": "code",
   "execution_count": 15,
   "metadata": {},
   "outputs": [
    {
     "name": "stdout",
     "output_type": "stream",
     "text": [
      "Gradient boosting RMSE: 3.9609843690603883\n"
     ]
    }
   ],
   "source": [
    "evaluator = RegressionEvaluator(labelCol='PE', predictionCol='prediction', metricName='rmse')\n",
    "gbt_rmse = evaluator.evaluate(gbt_preds)\n",
    "print(f'Gradient boosting RMSE: {gbt_rmse}')"
   ]
  },
  {
   "cell_type": "code",
   "execution_count": null,
   "metadata": {},
   "outputs": [],
   "source": []
  }
 ],
 "metadata": {
  "kernelspec": {
   "display_name": "newpy36",
   "language": "python",
   "name": "newpy36"
  },
  "language_info": {
   "codemirror_mode": {
    "name": "ipython",
    "version": 3
   },
   "file_extension": ".py",
   "mimetype": "text/x-python",
   "name": "python",
   "nbconvert_exporter": "python",
   "pygments_lexer": "ipython3",
   "version": "3.7.6"
  }
 },
 "nbformat": 4,
 "nbformat_minor": 4
}
